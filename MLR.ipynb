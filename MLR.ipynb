{
 "cells": [
  {
   "cell_type": "code",
   "execution_count": 24,
   "metadata": {},
   "outputs": [],
   "source": [
    "from sklearn.metrics import mean_squared_error, r2_score\n",
    "from sklearn.linear_model import LinearRegression\n",
    "from sklearn.impute import SimpleImputer\n",
    "import pandas as pd"
   ]
  },
  {
   "cell_type": "code",
   "execution_count": 25,
   "metadata": {
    "colab": {
     "base_uri": "https://localhost:8080/",
     "height": 443
    },
    "id": "edPJeaAZkGch",
    "outputId": "9cbbc599-399d-4928-8b07-308a40298b08"
   },
   "outputs": [
    {
     "data": {
      "text/html": [
       "<div>\n",
       "<style scoped>\n",
       "    .dataframe tbody tr th:only-of-type {\n",
       "        vertical-align: middle;\n",
       "    }\n",
       "\n",
       "    .dataframe tbody tr th {\n",
       "        vertical-align: top;\n",
       "    }\n",
       "\n",
       "    .dataframe thead th {\n",
       "        text-align: right;\n",
       "    }\n",
       "</style>\n",
       "<table border=\"1\" class=\"dataframe\">\n",
       "  <thead>\n",
       "    <tr style=\"text-align: right;\">\n",
       "      <th></th>\n",
       "      <th>Price</th>\n",
       "      <th>Age_08_04</th>\n",
       "      <th>KM</th>\n",
       "      <th>Fuel_Type</th>\n",
       "      <th>HP</th>\n",
       "      <th>Automatic</th>\n",
       "      <th>cc</th>\n",
       "      <th>Doors</th>\n",
       "      <th>Cylinders</th>\n",
       "      <th>Gears</th>\n",
       "      <th>Weight</th>\n",
       "    </tr>\n",
       "  </thead>\n",
       "  <tbody>\n",
       "    <tr>\n",
       "      <th>0</th>\n",
       "      <td>13500</td>\n",
       "      <td>23</td>\n",
       "      <td>46986</td>\n",
       "      <td>Diesel</td>\n",
       "      <td>90</td>\n",
       "      <td>0</td>\n",
       "      <td>2000</td>\n",
       "      <td>3</td>\n",
       "      <td>4</td>\n",
       "      <td>5</td>\n",
       "      <td>1165</td>\n",
       "    </tr>\n",
       "    <tr>\n",
       "      <th>1</th>\n",
       "      <td>13750</td>\n",
       "      <td>23</td>\n",
       "      <td>72937</td>\n",
       "      <td>Diesel</td>\n",
       "      <td>90</td>\n",
       "      <td>0</td>\n",
       "      <td>2000</td>\n",
       "      <td>3</td>\n",
       "      <td>4</td>\n",
       "      <td>5</td>\n",
       "      <td>1165</td>\n",
       "    </tr>\n",
       "    <tr>\n",
       "      <th>2</th>\n",
       "      <td>13950</td>\n",
       "      <td>24</td>\n",
       "      <td>41711</td>\n",
       "      <td>Diesel</td>\n",
       "      <td>90</td>\n",
       "      <td>0</td>\n",
       "      <td>2000</td>\n",
       "      <td>3</td>\n",
       "      <td>4</td>\n",
       "      <td>5</td>\n",
       "      <td>1165</td>\n",
       "    </tr>\n",
       "    <tr>\n",
       "      <th>3</th>\n",
       "      <td>14950</td>\n",
       "      <td>26</td>\n",
       "      <td>48000</td>\n",
       "      <td>Diesel</td>\n",
       "      <td>90</td>\n",
       "      <td>0</td>\n",
       "      <td>2000</td>\n",
       "      <td>3</td>\n",
       "      <td>4</td>\n",
       "      <td>5</td>\n",
       "      <td>1165</td>\n",
       "    </tr>\n",
       "    <tr>\n",
       "      <th>4</th>\n",
       "      <td>13750</td>\n",
       "      <td>30</td>\n",
       "      <td>38500</td>\n",
       "      <td>Diesel</td>\n",
       "      <td>90</td>\n",
       "      <td>0</td>\n",
       "      <td>2000</td>\n",
       "      <td>3</td>\n",
       "      <td>4</td>\n",
       "      <td>5</td>\n",
       "      <td>1170</td>\n",
       "    </tr>\n",
       "    <tr>\n",
       "      <th>...</th>\n",
       "      <td>...</td>\n",
       "      <td>...</td>\n",
       "      <td>...</td>\n",
       "      <td>...</td>\n",
       "      <td>...</td>\n",
       "      <td>...</td>\n",
       "      <td>...</td>\n",
       "      <td>...</td>\n",
       "      <td>...</td>\n",
       "      <td>...</td>\n",
       "      <td>...</td>\n",
       "    </tr>\n",
       "    <tr>\n",
       "      <th>1431</th>\n",
       "      <td>7500</td>\n",
       "      <td>69</td>\n",
       "      <td>20544</td>\n",
       "      <td>Petrol</td>\n",
       "      <td>86</td>\n",
       "      <td>0</td>\n",
       "      <td>1300</td>\n",
       "      <td>3</td>\n",
       "      <td>4</td>\n",
       "      <td>5</td>\n",
       "      <td>1025</td>\n",
       "    </tr>\n",
       "    <tr>\n",
       "      <th>1432</th>\n",
       "      <td>10845</td>\n",
       "      <td>72</td>\n",
       "      <td>19000</td>\n",
       "      <td>Petrol</td>\n",
       "      <td>86</td>\n",
       "      <td>0</td>\n",
       "      <td>1300</td>\n",
       "      <td>3</td>\n",
       "      <td>4</td>\n",
       "      <td>5</td>\n",
       "      <td>1015</td>\n",
       "    </tr>\n",
       "    <tr>\n",
       "      <th>1433</th>\n",
       "      <td>8500</td>\n",
       "      <td>71</td>\n",
       "      <td>17016</td>\n",
       "      <td>Petrol</td>\n",
       "      <td>86</td>\n",
       "      <td>0</td>\n",
       "      <td>1300</td>\n",
       "      <td>3</td>\n",
       "      <td>4</td>\n",
       "      <td>5</td>\n",
       "      <td>1015</td>\n",
       "    </tr>\n",
       "    <tr>\n",
       "      <th>1434</th>\n",
       "      <td>7250</td>\n",
       "      <td>70</td>\n",
       "      <td>16916</td>\n",
       "      <td>Petrol</td>\n",
       "      <td>86</td>\n",
       "      <td>0</td>\n",
       "      <td>1300</td>\n",
       "      <td>3</td>\n",
       "      <td>4</td>\n",
       "      <td>5</td>\n",
       "      <td>1015</td>\n",
       "    </tr>\n",
       "    <tr>\n",
       "      <th>1435</th>\n",
       "      <td>6950</td>\n",
       "      <td>76</td>\n",
       "      <td>1</td>\n",
       "      <td>Petrol</td>\n",
       "      <td>110</td>\n",
       "      <td>0</td>\n",
       "      <td>1600</td>\n",
       "      <td>5</td>\n",
       "      <td>4</td>\n",
       "      <td>5</td>\n",
       "      <td>1114</td>\n",
       "    </tr>\n",
       "  </tbody>\n",
       "</table>\n",
       "<p>1436 rows × 11 columns</p>\n",
       "</div>"
      ],
      "text/plain": [
       "      Price  Age_08_04     KM Fuel_Type   HP  Automatic    cc  Doors  \\\n",
       "0     13500         23  46986    Diesel   90          0  2000      3   \n",
       "1     13750         23  72937    Diesel   90          0  2000      3   \n",
       "2     13950         24  41711    Diesel   90          0  2000      3   \n",
       "3     14950         26  48000    Diesel   90          0  2000      3   \n",
       "4     13750         30  38500    Diesel   90          0  2000      3   \n",
       "...     ...        ...    ...       ...  ...        ...   ...    ...   \n",
       "1431   7500         69  20544    Petrol   86          0  1300      3   \n",
       "1432  10845         72  19000    Petrol   86          0  1300      3   \n",
       "1433   8500         71  17016    Petrol   86          0  1300      3   \n",
       "1434   7250         70  16916    Petrol   86          0  1300      3   \n",
       "1435   6950         76      1    Petrol  110          0  1600      5   \n",
       "\n",
       "      Cylinders  Gears  Weight  \n",
       "0             4      5    1165  \n",
       "1             4      5    1165  \n",
       "2             4      5    1165  \n",
       "3             4      5    1165  \n",
       "4             4      5    1170  \n",
       "...         ...    ...     ...  \n",
       "1431          4      5    1025  \n",
       "1432          4      5    1015  \n",
       "1433          4      5    1015  \n",
       "1434          4      5    1015  \n",
       "1435          4      5    1114  \n",
       "\n",
       "[1436 rows x 11 columns]"
      ]
     },
     "execution_count": 25,
     "metadata": {},
     "output_type": "execute_result"
    }
   ],
   "source": [
    "data=pd.read_csv(\"C:\\\\Users\\\\NANDAKISHORE BOINI\\\\OneDrive\\\\Desktop\\\\ToyotaCorolla - MLR.csv\")\n",
    "data"
   ]
  },
  {
   "cell_type": "code",
   "execution_count": 26,
   "metadata": {},
   "outputs": [
    {
     "name": "stdout",
     "output_type": "stream",
     "text": [
      "              Price    Age_08_04             KM           HP    Automatic  \\\n",
      "count   1436.000000  1436.000000    1436.000000  1436.000000  1436.000000   \n",
      "mean   10730.824513    55.947075   68533.259749   101.502089     0.055710   \n",
      "std     3626.964585    18.599988   37506.448872    14.981080     0.229441   \n",
      "min     4350.000000     1.000000       1.000000    69.000000     0.000000   \n",
      "25%     8450.000000    44.000000   43000.000000    90.000000     0.000000   \n",
      "50%     9900.000000    61.000000   63389.500000   110.000000     0.000000   \n",
      "75%    11950.000000    70.000000   87020.750000   110.000000     0.000000   \n",
      "max    32500.000000    80.000000  243000.000000   192.000000     1.000000   \n",
      "\n",
      "                cc        Doors  Cylinders        Gears      Weight  \n",
      "count   1436.00000  1436.000000     1436.0  1436.000000  1436.00000  \n",
      "mean    1576.85585     4.033426        4.0     5.026462  1072.45961  \n",
      "std      424.38677     0.952677        0.0     0.188510    52.64112  \n",
      "min     1300.00000     2.000000        4.0     3.000000  1000.00000  \n",
      "25%     1400.00000     3.000000        4.0     5.000000  1040.00000  \n",
      "50%     1600.00000     4.000000        4.0     5.000000  1070.00000  \n",
      "75%     1600.00000     5.000000        4.0     5.000000  1085.00000  \n",
      "max    16000.00000     5.000000        4.0     6.000000  1615.00000  \n"
     ]
    }
   ],
   "source": [
    "import pandas as pd\n",
    "# Summary statistics\n",
    "print(data.describe())"
   ]
  },
  {
   "cell_type": "code",
   "execution_count": 27,
   "metadata": {},
   "outputs": [
    {
     "data": {
      "text/plain": [
       "array([[<Axes: title={'center': 'Price'}>,\n",
       "        <Axes: title={'center': 'Age_08_04'}>,\n",
       "        <Axes: title={'center': 'KM'}>],\n",
       "       [<Axes: title={'center': 'HP'}>,\n",
       "        <Axes: title={'center': 'Automatic'}>,\n",
       "        <Axes: title={'center': 'cc'}>],\n",
       "       [<Axes: title={'center': 'Doors'}>,\n",
       "        <Axes: title={'center': 'Cylinders'}>,\n",
       "        <Axes: title={'center': 'Gears'}>],\n",
       "       [<Axes: title={'center': 'Weight'}>, <Axes: >, <Axes: >]],\n",
       "      dtype=object)"
      ]
     },
     "execution_count": 27,
     "metadata": {},
     "output_type": "execute_result"
    },
    {
     "data": {
      "image/png": "[encoded data removed]",
      "text/plain": [
       "<Figure size 1200x800 with 12 Axes>"
      ]
     },
     "metadata": {},
     "output_type": "display_data"
    }
   ],
   "source": [
    "# Histograms for numerical variables\n",
    "data.hist(figsize=(12, 8))"
   ]
  },
  {
   "cell_type": "code",
   "execution_count": 28,
   "metadata": {},
   "outputs": [
    {
     "data": {
      "image/png": "[encoded data removed]",
      "text/plain": [
       "<Figure size 640x480 with 1 Axes>"
      ]
     },
     "metadata": {},
     "output_type": "display_data"
    }
   ],
   "source": [
    "# Scatter plots for relationships between variables\n",
    "import matplotlib.pyplot as plt\n",
    "plt.scatter(data['Age_08_04'], data['Price']) # Changed 'Age' to 'Age_08_04'\n",
    "plt.xlabel('Age')\n",
    "plt.ylabel('Price')\n",
    "plt.title('Scatter plot of Age vs Price')\n",
    "plt.show()\n"
   ]
  },
  {
   "cell_type": "code",
   "execution_count": 29,
   "metadata": {},
   "outputs": [
    {
     "name": "stdout",
     "output_type": "stream",
     "text": [
      "              Price  Age_08_04        KM  Fuel_Type        HP  Automatic  \\\n",
      "Price      1.000000  -0.876590 -0.569960        NaN  0.314990   0.033081   \n",
      "Age_08_04 -0.876590   1.000000  0.505672        NaN -0.156622   0.031717   \n",
      "KM        -0.569960   0.505672  1.000000        NaN -0.333538  -0.081854   \n",
      "Fuel_Type       NaN        NaN       NaN        NaN       NaN        NaN   \n",
      "HP         0.314990  -0.156622 -0.333538        NaN  1.000000   0.013144   \n",
      "Automatic  0.033081   0.031717 -0.081854        NaN  0.013144   1.000000   \n",
      "cc         0.126389  -0.098084  0.102683        NaN  0.035856   0.066740   \n",
      "Doors      0.185326  -0.148359 -0.036197        NaN  0.092424  -0.027654   \n",
      "Cylinders       NaN        NaN       NaN        NaN       NaN        NaN   \n",
      "Gears      0.063104  -0.005364  0.015023        NaN  0.209477  -0.098555   \n",
      "Weight     0.581198  -0.470253 -0.028598        NaN  0.089614   0.057249   \n",
      "\n",
      "                 cc     Doors  Cylinders     Gears    Weight  \n",
      "Price      0.126389  0.185326        NaN  0.063104  0.581198  \n",
      "Age_08_04 -0.098084 -0.148359        NaN -0.005364 -0.470253  \n",
      "KM         0.102683 -0.036197        NaN  0.015023 -0.028598  \n",
      "Fuel_Type       NaN       NaN        NaN       NaN       NaN  \n",
      "HP         0.035856  0.092424        NaN  0.209477  0.089614  \n",
      "Automatic  0.066740 -0.027654        NaN -0.098555  0.057249  \n",
      "cc         1.000000  0.079903        NaN  0.014629  0.335637  \n",
      "Doors      0.079903  1.000000        NaN -0.160141  0.302618  \n",
      "Cylinders       NaN       NaN        NaN       NaN       NaN  \n",
      "Gears      0.014629 -0.160141        NaN  1.000000  0.020613  \n",
      "Weight     0.335637  0.302618        NaN  0.020613  1.000000  \n"
     ]
    }
   ],
   "source": [
    "# Correlation matrix\n",
    "# Convert 'Fuel_Type' columns to numeric type before calculating correlation\n",
    "for col in data.columns:\n",
    "   if 'Fuel_Type' in col:\n",
    "     data[col] = pd.to_numeric(data[col], errors='coerce')\n",
    "\n",
    "print(data.corr())"
   ]
  },
  {
   "cell_type": "code",
   "execution_count": 30,
   "metadata": {
    "colab": {
     "base_uri": "https://localhost:8080/",
     "height": 1000
    },
    "id": "snMy-6GVk46_",
    "outputId": "fed4c4df-deb5-49cb-d3f1-5dca8ceb7429"
   },
   "outputs": [],
   "source": [
    "\n",
    "# Preprocessing\n",
    "# Example: Handling missing values\n",
    "data.fillna(data.mean(), inplace=True)\n",
    "\n",
    "# Example: Encoding categorical variables\n",
    "# This code is no longer needed since the columns were converted in a previous step.\n",
    "# data = pd.get_dummies(data, columns=['Fuel_Type', 'Color'])"
   ]
  },
  {
   "cell_type": "code",
   "execution_count": 31,
   "metadata": {
    "id": "_GHsDLIUlINK"
   },
   "outputs": [],
   "source": [
    "from sklearn.model_selection import train_test_split\n",
    "\n",
    "# Assuming 'Price' is the target variable\n",
    "X = data.drop('Price', axis=1)\n",
    "y = data['Price']\n",
    "\n",
    "X_train, X_test, y_train, y_test = train_test_split(X, y, test_size=0.2, random_state=42)\n",
    "\n",
    "# Split data into training and testing sets\n",
    "train_data, test_data = train_test_split(data, test_size=0.2, random_state=42)\n",
    "\n",
    "# Explanation:\n",
    "# - train_test_split function from sklearn.model_selection is used to split the data.\n",
    "# - test_size=0.2 specifies that 20% of the data will be used for testing.\n",
    "# - random_state=42 ensures that the split is reproducible.\n",
    "# - The function returns two DataFrames: train_data (80% of the data) and test_data (20% of the data).\n"
   ]
  },
  {
   "cell_type": "code",
   "execution_count": 32,
   "metadata": {},
   "outputs": [
    {
     "data": {
      "text/html": [
       "<div>\n",
       "<style scoped>\n",
       "    .dataframe tbody tr th:only-of-type {\n",
       "        vertical-align: middle;\n",
       "    }\n",
       "\n",
       "    .dataframe tbody tr th {\n",
       "        vertical-align: top;\n",
       "    }\n",
       "\n",
       "    .dataframe thead th {\n",
       "        text-align: right;\n",
       "    }\n",
       "</style>\n",
       "<table border=\"1\" class=\"dataframe\">\n",
       "  <thead>\n",
       "    <tr style=\"text-align: right;\">\n",
       "      <th></th>\n",
       "      <th>Age_08_04</th>\n",
       "      <th>KM</th>\n",
       "      <th>Fuel_Type</th>\n",
       "      <th>HP</th>\n",
       "      <th>Automatic</th>\n",
       "      <th>cc</th>\n",
       "      <th>Doors</th>\n",
       "      <th>Cylinders</th>\n",
       "      <th>Gears</th>\n",
       "      <th>Weight</th>\n",
       "    </tr>\n",
       "  </thead>\n",
       "  <tbody>\n",
       "    <tr>\n",
       "      <th>899</th>\n",
       "      <td>62</td>\n",
       "      <td>59295</td>\n",
       "      <td>NaN</td>\n",
       "      <td>86</td>\n",
       "      <td>0</td>\n",
       "      <td>1300</td>\n",
       "      <td>5</td>\n",
       "      <td>4</td>\n",
       "      <td>5</td>\n",
       "      <td>1035</td>\n",
       "    </tr>\n",
       "    <tr>\n",
       "      <th>881</th>\n",
       "      <td>68</td>\n",
       "      <td>61568</td>\n",
       "      <td>NaN</td>\n",
       "      <td>110</td>\n",
       "      <td>0</td>\n",
       "      <td>1600</td>\n",
       "      <td>4</td>\n",
       "      <td>4</td>\n",
       "      <td>5</td>\n",
       "      <td>1035</td>\n",
       "    </tr>\n",
       "    <tr>\n",
       "      <th>310</th>\n",
       "      <td>40</td>\n",
       "      <td>38653</td>\n",
       "      <td>NaN</td>\n",
       "      <td>110</td>\n",
       "      <td>0</td>\n",
       "      <td>1600</td>\n",
       "      <td>5</td>\n",
       "      <td>4</td>\n",
       "      <td>5</td>\n",
       "      <td>1080</td>\n",
       "    </tr>\n",
       "    <tr>\n",
       "      <th>1145</th>\n",
       "      <td>75</td>\n",
       "      <td>101855</td>\n",
       "      <td>NaN</td>\n",
       "      <td>110</td>\n",
       "      <td>0</td>\n",
       "      <td>1600</td>\n",
       "      <td>5</td>\n",
       "      <td>4</td>\n",
       "      <td>5</td>\n",
       "      <td>1070</td>\n",
       "    </tr>\n",
       "    <tr>\n",
       "      <th>31</th>\n",
       "      <td>22</td>\n",
       "      <td>35199</td>\n",
       "      <td>NaN</td>\n",
       "      <td>97</td>\n",
       "      <td>0</td>\n",
       "      <td>1400</td>\n",
       "      <td>3</td>\n",
       "      <td>4</td>\n",
       "      <td>5</td>\n",
       "      <td>1100</td>\n",
       "    </tr>\n",
       "    <tr>\n",
       "      <th>...</th>\n",
       "      <td>...</td>\n",
       "      <td>...</td>\n",
       "      <td>...</td>\n",
       "      <td>...</td>\n",
       "      <td>...</td>\n",
       "      <td>...</td>\n",
       "      <td>...</td>\n",
       "      <td>...</td>\n",
       "      <td>...</td>\n",
       "      <td>...</td>\n",
       "    </tr>\n",
       "    <tr>\n",
       "      <th>1095</th>\n",
       "      <td>76</td>\n",
       "      <td>125778</td>\n",
       "      <td>NaN</td>\n",
       "      <td>110</td>\n",
       "      <td>0</td>\n",
       "      <td>1600</td>\n",
       "      <td>3</td>\n",
       "      <td>4</td>\n",
       "      <td>5</td>\n",
       "      <td>1050</td>\n",
       "    </tr>\n",
       "    <tr>\n",
       "      <th>1130</th>\n",
       "      <td>73</td>\n",
       "      <td>107108</td>\n",
       "      <td>NaN</td>\n",
       "      <td>110</td>\n",
       "      <td>0</td>\n",
       "      <td>1600</td>\n",
       "      <td>3</td>\n",
       "      <td>4</td>\n",
       "      <td>5</td>\n",
       "      <td>1050</td>\n",
       "    </tr>\n",
       "    <tr>\n",
       "      <th>1294</th>\n",
       "      <td>80</td>\n",
       "      <td>71740</td>\n",
       "      <td>NaN</td>\n",
       "      <td>110</td>\n",
       "      <td>0</td>\n",
       "      <td>1600</td>\n",
       "      <td>5</td>\n",
       "      <td>4</td>\n",
       "      <td>5</td>\n",
       "      <td>1070</td>\n",
       "    </tr>\n",
       "    <tr>\n",
       "      <th>860</th>\n",
       "      <td>63</td>\n",
       "      <td>64690</td>\n",
       "      <td>NaN</td>\n",
       "      <td>86</td>\n",
       "      <td>0</td>\n",
       "      <td>1300</td>\n",
       "      <td>3</td>\n",
       "      <td>4</td>\n",
       "      <td>5</td>\n",
       "      <td>1020</td>\n",
       "    </tr>\n",
       "    <tr>\n",
       "      <th>1126</th>\n",
       "      <td>80</td>\n",
       "      <td>110000</td>\n",
       "      <td>NaN</td>\n",
       "      <td>110</td>\n",
       "      <td>0</td>\n",
       "      <td>1600</td>\n",
       "      <td>4</td>\n",
       "      <td>4</td>\n",
       "      <td>5</td>\n",
       "      <td>1035</td>\n",
       "    </tr>\n",
       "  </tbody>\n",
       "</table>\n",
       "<p>1148 rows × 10 columns</p>\n",
       "</div>"
      ],
      "text/plain": [
       "      Age_08_04      KM  Fuel_Type   HP  Automatic    cc  Doors  Cylinders  \\\n",
       "899          62   59295        NaN   86          0  1300      5          4   \n",
       "881          68   61568        NaN  110          0  1600      4          4   \n",
       "310          40   38653        NaN  110          0  1600      5          4   \n",
       "1145         75  101855        NaN  110          0  1600      5          4   \n",
       "31           22   35199        NaN   97          0  1400      3          4   \n",
       "...         ...     ...        ...  ...        ...   ...    ...        ...   \n",
       "1095         76  125778        NaN  110          0  1600      3          4   \n",
       "1130         73  107108        NaN  110          0  1600      3          4   \n",
       "1294         80   71740        NaN  110          0  1600      5          4   \n",
       "860          63   64690        NaN   86          0  1300      3          4   \n",
       "1126         80  110000        NaN  110          0  1600      4          4   \n",
       "\n",
       "      Gears  Weight  \n",
       "899       5    1035  \n",
       "881       5    1035  \n",
       "310       5    1080  \n",
       "1145      5    1070  \n",
       "31        5    1100  \n",
       "...     ...     ...  \n",
       "1095      5    1050  \n",
       "1130      5    1050  \n",
       "1294      5    1070  \n",
       "860       5    1020  \n",
       "1126      5    1035  \n",
       "\n",
       "[1148 rows x 10 columns]"
      ]
     },
     "execution_count": 32,
     "metadata": {},
     "output_type": "execute_result"
    }
   ],
   "source": [
    "X_train"
   ]
  },
  {
   "cell_type": "code",
   "execution_count": 33,
   "metadata": {
    "colab": {
     "base_uri": "https://localhost:8080/"
    },
    "id": "MQaoy7ki1Jcz",
    "outputId": "b2994758-1761-4b05-8b42-5e46ff535840"
   },
   "outputs": [
    {
     "name": "stdout",
     "output_type": "stream",
     "text": [
      "\n",
      "Model 1 Coefficients:\n",
      "0: -120.78313654181905\n",
      "1: -0.019986273170814615\n",
      "2: 27.429109893649457\n",
      "3: 371.2087031810055\n",
      "4: -0.11351355874884583\n",
      "5: 7.5354677765531095\n",
      "6: 2.2168933355715126e-12\n",
      "7: 626.4184437879996\n",
      "8: 19.84313827080288\n"
     ]
    },
    {
     "name": "stderr",
     "output_type": "stream",
     "text": [
      "C:\\Users\\NANDAKISHORE BOINI\\anaconda3\\Lib\\site-packages\\sklearn\\impute\\_base.py:577: UserWarning: Skipping features without any observed values: ['Fuel_Type']. At least one non-missing value is needed for imputation with strategy='mean'.\n",
      "  warnings.warn(\n"
     ]
    }
   ],
   "source": [
    "# Model 1: All features\n",
    "model1 = LinearRegression()\n",
    "# Create an imputer object and fit it on X_train\n",
    "imputer = SimpleImputer(strategy='mean')\n",
    "X_train_imputed = imputer.fit_transform(X_train)\n",
    "model1.fit(X_train_imputed, y_train)\n",
    "\n",
    "print('\\nModel 1 Coefficients:')\n",
    "# Change X_train.columns to X_train_imputed.shape[1] to iterate over the correct number of features\n",
    "for i in range(X_train_imputed.shape[1]):\n",
    "  print(f'{i}: {model1.coef_[i]}')\n"
   ]
  },
  {
   "cell_type": "code",
   "execution_count": 34,
   "metadata": {
    "colab": {
     "base_uri": "https://localhost:8080/"
    },
    "id": "viUo2Yi80SSL",
    "outputId": "0be9bd01-5758-40ed-b126-c500c37a7ad5"
   },
   "outputs": [
    {
     "name": "stdout",
     "output_type": "stream",
     "text": [
      "\n",
      "Model 1 Coefficients:\n",
      "Age_08_04: -120.78313654181905\n",
      "KM: -0.019986273170814615\n",
      "Fuel_Type: 27.429109893649457\n",
      "HP: 371.2087031810055\n",
      "Automatic: -0.11351355874884583\n",
      "cc: 7.5354677765531095\n",
      "Doors: 2.2168933355715126e-12\n",
      "Cylinders: 626.4184437879996\n",
      "Gears: 19.84313827080288\n"
     ]
    },
    {
     "name": "stderr",
     "output_type": "stream",
     "text": [
      "C:\\Users\\NANDAKISHORE BOINI\\anaconda3\\Lib\\site-packages\\sklearn\\impute\\_base.py:577: UserWarning: Skipping features without any observed values: ['Fuel_Type']. At least one non-missing value is needed for imputation with strategy='mean'.\n",
      "  warnings.warn(\n"
     ]
    }
   ],
   "source": [
    "# Model 1: All features\n",
    "model1 = LinearRegression()\n",
    "# Create an imputer object and fit it on X_train\n",
    "imputer = SimpleImputer(strategy='mean')\n",
    "X_train_imputed = imputer.fit_transform(X_train)\n",
    "model1.fit(X_train_imputed, y_train)\n",
    "\n",
    "print('\\nModel 1 Coefficients:')\n",
    "# Iterate through the columns of X_train_imputed (the data the model was trained on)\n",
    "for i, col in enumerate(X_train.columns[:-1]): # Exclude the last column ('Price')\n",
    "  print(f'{col}: {model1.coef_[i]}')\n",
    "\n",
    "\n",
    "\n"
   ]
  },
  {
   "cell_type": "code",
   "execution_count": 35,
   "metadata": {},
   "outputs": [
    {
     "name": "stdout",
     "output_type": "stream",
     "text": [
      "\n",
      "Model 2 Coefficients:\n",
      "Age_08_04: -120.02540542943407\n",
      "KM: -0.02023259195297128\n",
      "HP: 29.05217038638872\n",
      "Weight: 19.76906620722093\n"
     ]
    }
   ],
   "source": [
    "# Model 2: Selected features (Age, KM, HP, Weight)\n",
    "model2 = LinearRegression()\n",
    "X_train2 = X_train[['Age_08_04', 'KM', 'HP', 'Weight']]\n",
    "model2.fit(X_train2, y_train)\n",
    "\n",
    "print('\\nModel 2 Coefficients:')\n",
    "for i, col in enumerate(X_train2.columns):\n",
    "  print(f'{col}: {model2.coef_[i]}')"
   ]
  },
  {
   "cell_type": "code",
   "execution_count": 36,
   "metadata": {
    "colab": {
     "base_uri": "https://localhost:8080/"
    },
    "id": "gz_ohwL00dgr",
    "outputId": "a0d9bbf4-0b98-4a4d-94ab-e2b3c6f1a594"
   },
   "outputs": [
    {
     "name": "stdout",
     "output_type": "stream",
     "text": [
      "\n",
      "Model 3 Coefficients:\n",
      "Age_08_04: -153.01546943924146\n",
      "KM: -0.016113725570708122\n"
     ]
    },
    {
     "name": "stderr",
     "output_type": "stream",
     "text": [
      "C:\\Users\\NANDAKISHORE BOINI\\anaconda3\\Lib\\site-packages\\sklearn\\impute\\_base.py:577: UserWarning: Skipping features without any observed values: ['Fuel_Type']. At least one non-missing value is needed for imputation with strategy='mean'.\n",
      "  warnings.warn(\n"
     ]
    }
   ],
   "source": [
    "# Model 3: Selected features (Age, KM, Fuel_Type)\n",
    "model3 = LinearRegression()\n",
    "X_train3 = X_train[['Age_08_04', 'KM', 'Fuel_Type']]\n",
    "# Create a new imputer object specifically for X_train3 and fit it on X_train3\n",
    "imputer = SimpleImputer(strategy='mean')\n",
    "X_train3_imputed = imputer.fit_transform(X_train3)\n",
    "\n",
    "model3.fit(X_train3_imputed, y_train)\n",
    "\n",
    "print('\\nModel 3 Coefficients:')\n",
    "# Iterate through the columns of X_train3_imputed (the data the model was trained on)\n",
    "for i, col in enumerate(X_train3.columns[:-1]): # Exclude the last column ('Fuel_Type') as it was imputed\n",
    "  print(f'{col}: {model3.coef_[i]}')"
   ]
  },
  {
   "cell_type": "code",
   "execution_count": 37,
   "metadata": {
    "colab": {
     "base_uri": "https://localhost:8080/"
    },
    "id": "I_8E2kskrMmi",
    "outputId": "d1d3c12a-e64b-43ba-b162-66fc7fa82f1f"
   },
   "outputs": [
    {
     "name": "stdout",
     "output_type": "stream",
     "text": [
      "\n",
      "Model 1 Evaluation:\n",
      "Mean Squared Error: 1970126.6288130234\n",
      "R-squared: 0.8523452141908858\n"
     ]
    },
    {
     "name": "stderr",
     "output_type": "stream",
     "text": [
      "C:\\Users\\NANDAKISHORE BOINI\\anaconda3\\Lib\\site-packages\\sklearn\\impute\\_base.py:577: UserWarning: Skipping features without any observed values: ['Fuel_Type']. At least one non-missing value is needed for imputation with strategy='mean'.\n",
      "  warnings.warn(\n"
     ]
    }
   ],
   "source": [
    "# Model 1 Evaluation\n",
    "X_test = test_data.drop('Price', axis=1)\n",
    "y_test = test_data['Price']\n",
    "\n",
    "# Create a new imputer object for X_test and fit it on X_test\n",
    "imputer = SimpleImputer(strategy='mean')\n",
    "X_test_imputed = imputer.fit_transform(X_test)\n",
    "\n",
    "y_pred1 = model1.predict(X_test_imputed)\n",
    "\n",
    "mse1 = mean_squared_error(y_test, y_pred1)\n",
    "r2_1 = r2_score(y_test, y_pred1)\n",
    "\n",
    "print('\\nModel 1 Evaluation:')\n",
    "print('Mean Squared Error:', mse1)\n",
    "print('R-squared:', r2_1)\n"
   ]
  },
  {
   "cell_type": "code",
   "execution_count": 38,
   "metadata": {
    "colab": {
     "base_uri": "https://localhost:8080/"
    },
    "id": "V3WHJ63GrZaT",
    "outputId": "01f333ca-9084-41a0-defe-51649cdea5e3"
   },
   "outputs": [
    {
     "name": "stdout",
     "output_type": "stream",
     "text": [
      "\n",
      "Model 2 Evaluation:\n",
      "Mean Squared Error: 1993321.0129730718\n",
      "R-squared: 0.8506068681500581\n"
     ]
    }
   ],
   "source": [
    "# Model 2 Evaluation\n",
    "X_test2 = test_data[['Age_08_04', 'KM', 'HP', 'Weight']] # Use the correct features for model2\n",
    "y_pred2 = model2.predict(X_test2)\n",
    "\n",
    "mse2 = mean_squared_error(y_test, y_pred2)\n",
    "r2_2 = r2_score(y_test, y_pred2)\n",
    "\n",
    "print('\\nModel 2 Evaluation:')\n",
    "print('Mean Squared Error:', mse2)\n",
    "print('R-squared:', r2_2)\n",
    "\n"
   ]
  },
  {
   "cell_type": "code",
   "execution_count": 39,
   "metadata": {
    "colab": {
     "base_uri": "https://localhost:8080/"
    },
    "id": "cQHRqeZCrkiy",
    "outputId": "2d6ff1cb-2403-4eac-ccae-7b4c894773f5"
   },
   "outputs": [
    {
     "name": "stdout",
     "output_type": "stream",
     "text": [
      "\n",
      "Model 3 Evaluation:\n",
      "Mean Squared Error: 2925606.602783666\n",
      "R-squared: 0.7807349994776657\n"
     ]
    },
    {
     "name": "stderr",
     "output_type": "stream",
     "text": [
      "C:\\Users\\NANDAKISHORE BOINI\\anaconda3\\Lib\\site-packages\\sklearn\\impute\\_base.py:577: UserWarning: Skipping features without any observed values: ['Fuel_Type']. At least one non-missing value is needed for imputation with strategy='mean'.\n",
      "  warnings.warn(\n"
     ]
    }
   ],
   "source": [
    "# Model 3 Evaluation\n",
    "X_test3 = test_data[['Age_08_04', 'KM', 'Fuel_Type']] # Use the correct features for model3\n",
    "\n",
    "# Create a new imputer object specifically for X_test3 and fit it on X_test3\n",
    "imputer = SimpleImputer(strategy='mean')\n",
    "X_test3_imputed = imputer.fit_transform(X_test3)\n",
    "\n",
    "y_pred3 = model3.predict(X_test3_imputed)\n",
    "\n",
    "mse3 = mean_squared_error(y_test, y_pred3)\n",
    "r2_3 = r2_score(y_test, y_pred3)\n",
    "\n",
    "print('\\nModel 3 Evaluation:')\n",
    "print('Mean Squared Error:', mse3)\n",
    "print('R-squared:', r2_3)"
   ]
  },
  {
   "cell_type": "code",
   "execution_count": 40,
   "metadata": {
    "colab": {
     "base_uri": "https://localhost:8080/"
    },
    "id": "yVQmOGP7rveS",
    "outputId": "f12cb12b-2d06-4104-b6ec-b57eeb3ed2b6"
   },
   "outputs": [
    {
     "name": "stdout",
     "output_type": "stream",
     "text": [
      "\n",
      "Lasso Regression:\n",
      "Mean Squared Error: 1970167.545659507\n",
      "R-squared: 0.8523421476021117\n"
     ]
    }
   ],
   "source": [
    "from sklearn.linear_model import Lasso, Ridge\n",
    "\n",
    "# Lasso Regression\n",
    "lasso = Lasso(alpha=0.1)  # You can adjust the alpha parameter\n",
    "lasso.fit(X_train_imputed, y_train)\n",
    "y_pred_lasso = lasso.predict(X_test_imputed)\n",
    "\n",
    "mse_lasso = mean_squared_error(y_test, y_pred_lasso)\n",
    "r2_lasso = r2_score(y_test, y_pred_lasso)\n",
    "\n",
    "print('\\nLasso Regression:')\n",
    "print('Mean Squared Error:', mse_lasso)\n",
    "print('R-squared:', r2_lasso)\n",
    "\n"
   ]
  },
  {
   "cell_type": "code",
   "execution_count": 41,
   "metadata": {},
   "outputs": [
    {
     "name": "stdout",
     "output_type": "stream",
     "text": [
      "\n",
      "Ridge Regression:\n",
      "Mean Squared Error: 1970151.833724146\n",
      "R-squared: 0.8523433251621815\n"
     ]
    }
   ],
   "source": [
    "# Ridge Regression\n",
    "ridge = Ridge(alpha=0.1)  # You can adjust the alpha parameter\n",
    "ridge.fit(X_train_imputed, y_train)\n",
    "y_pred_ridge = ridge.predict(X_test_imputed)\n",
    "\n",
    "mse_ridge = mean_squared_error(y_test, y_pred_ridge)\n",
    "r2_ridge = r2_score(y_test, y_pred_ridge)\n",
    "\n",
    "print('\\nRidge Regression:')\n",
    "print('Mean Squared Error:', mse_ridge)\n",
    "print('R-squared:', r2_ridge)\n"
   ]
  },
  {
   "cell_type": "code",
   "execution_count": 42,
   "metadata": {},
   "outputs": [],
   "source": [
    "#1.What is Normalization & Standardization and how is it helpful?\n",
    "\n",
    "#Normalization is also known as min-max scaling,it is to bring the features in the range of 0 to 1.\n",
    "#It arranges our diifferent measures of data into single scalable data.it has a very high chance of outliers.\n",
    "#the calculative formula is Xn=(X-Xmin)/(Xmax-Xmin)\n",
    "\n",
    "#Standardization is known Z-score normalization,it calculates on the basis of mean and std.deviation\n",
    "#It converts our data into mean of 0 and standard deviation 1.\n",
    "#it's mathematical formula is Xn=(X-Xmean)/Xstd\n",
    "\n",
    "#both normalization and standardization improves the working of the model.\n",
    "#they both also prevent the dominance of the large scale data.\n",
    "#by the help of these methods,scaling can also be done to converge the algorithms "
   ]
  },
  {
   "cell_type": "code",
   "execution_count": 43,
   "metadata": {},
   "outputs": [],
   "source": [
    "#2.What techniques can be used to address multicollinearity in multiple linear regression?\n",
    "\n",
    "#Multicollinearity takes place because of predicted variables are highly correlated\n",
    "#it will lead to difficulty in interpreting the feature importance\n",
    "#also causes in unstableness in coefficient estimates\n",
    "\n",
    "#techniques used:\n",
    "#Feature selection-by removing highly correlated variables\n",
    "#Feature engineering-linearly combinig the predictors\n",
    "#Dimensinality reduction-principal component analysis(PCA),partial least squares regression(PLS).\n",
    "#regualrization and variance inflation facter(vif)"
   ]
  }
 ],
 "metadata": {
  "colab": {
   "provenance": []
  },
  "kernelspec": {
   "display_name": "Python 3 (ipykernel)",
   "language": "python",
   "name": "python3"
  },
  "language_info": {
   "codemirror_mode": {
    "name": "ipython",
    "version": 3
   },
   "file_extension": ".py",
   "mimetype": "text/x-python",
   "name": "python",
   "nbconvert_exporter": "python",
   "pygments_lexer": "ipython3",
   "version": "3.12.4"
  }
 },
 "nbformat": 4,
 "nbformat_minor": 4
}
